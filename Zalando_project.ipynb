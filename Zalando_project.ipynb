{
 "cells": [
  {
   "cell_type": "code",
   "execution_count": 36,
   "id": "0955ba29",
   "metadata": {
    "ExecuteTime": {
     "end_time": "2024-10-06T13:01:48.311234Z",
     "start_time": "2024-10-06T13:01:48.276494Z"
    },
    "collapsed": true
   },
   "outputs": [
    {
     "data": {
      "text/html": [
       "<div>\n",
       "<style scoped>\n",
       "    .dataframe tbody tr th:only-of-type {\n",
       "        vertical-align: middle;\n",
       "    }\n",
       "\n",
       "    .dataframe tbody tr th {\n",
       "        vertical-align: top;\n",
       "    }\n",
       "\n",
       "    .dataframe thead th {\n",
       "        text-align: right;\n",
       "    }\n",
       "</style>\n",
       "<table border=\"1\" class=\"dataframe\">\n",
       "  <thead>\n",
       "    <tr style=\"text-align: right;\">\n",
       "      <th></th>\n",
       "      <th>DEPARTMENT</th>\n",
       "      <th>CATEGORY</th>\n",
       "      <th>SUBCATEGORY</th>\n",
       "      <th>SUBSUBCATEGORY</th>\n",
       "      <th>GENDER</th>\n",
       "      <th>SKU</th>\n",
       "      <th>SKU_VARIANT</th>\n",
       "      <th>PRODUCT_NAME</th>\n",
       "      <th>PRICE_RETAIL</th>\n",
       "      <th>PRICE_CURRENT</th>\n",
       "      <th>...</th>\n",
       "      <th>PRICE_LABEL</th>\n",
       "      <th>PRICE_CURRENT_RAW</th>\n",
       "      <th>BRAND</th>\n",
       "      <th>PROMOTION</th>\n",
       "      <th>URL</th>\n",
       "      <th>SOURCE_URL</th>\n",
       "      <th>BREADCRUMBS</th>\n",
       "      <th>SORT_BY_RANKING</th>\n",
       "      <th>SCAN_DATE</th>\n",
       "      <th>TID</th>\n",
       "    </tr>\n",
       "  </thead>\n",
       "  <tbody>\n",
       "    <tr>\n",
       "      <th>0</th>\n",
       "      <td>Herren</td>\n",
       "      <td>Bekleidung</td>\n",
       "      <td>T-Shirts &amp; Polos</td>\n",
       "      <td>T-Shirts basic</td>\n",
       "      <td>men</td>\n",
       "      <td>CZ522O06S-J11</td>\n",
       "      <td>NaN</td>\n",
       "      <td>BRO - T-Shirt basic - pink</td>\n",
       "      <td>39.95</td>\n",
       "      <td>29.95</td>\n",
       "      <td>...</td>\n",
       "      <td>NaN</td>\n",
       "      <td>29,95?</td>\n",
       "      <td>CHASIN'</td>\n",
       "      <td>NaN</td>\n",
       "      <td>https://www.zalando.de/herren/?q=CZ522O06S-J11</td>\n",
       "      <td>https://www.zalando.de/herrenbekleidung-shirts...</td>\n",
       "      <td>Herren&gt;Bekleidung&gt;T-Shirts &amp; Polos&gt;T-Shirts basic</td>\n",
       "      <td>1</td>\n",
       "      <td>2023/1/29 1:31</td>\n",
       "      <td>24425898</td>\n",
       "    </tr>\n",
       "    <tr>\n",
       "      <th>1</th>\n",
       "      <td>Herren</td>\n",
       "      <td>Bekleidung</td>\n",
       "      <td>T-Shirts &amp; Polos</td>\n",
       "      <td>T-Shirts basic</td>\n",
       "      <td>men</td>\n",
       "      <td>JA222O37Z-Q11</td>\n",
       "      <td>NaN</td>\n",
       "      <td>3 PACK  - T-Shirt basic - black/white/grey</td>\n",
       "      <td>38.85</td>\n",
       "      <td>36.95</td>\n",
       "      <td>...</td>\n",
       "      <td>NaN</td>\n",
       "      <td>36,95?</td>\n",
       "      <td>Jack &amp; Jones</td>\n",
       "      <td>NaN</td>\n",
       "      <td>https://www.zalando.de/herren/?q=JA222O37Z-Q11</td>\n",
       "      <td>https://www.zalando.de/herrenbekleidung-shirts...</td>\n",
       "      <td>Herren&gt;Bekleidung&gt;T-Shirts &amp; Polos&gt;T-Shirts basic</td>\n",
       "      <td>2</td>\n",
       "      <td>2023/1/29 1:31</td>\n",
       "      <td>24425899</td>\n",
       "    </tr>\n",
       "    <tr>\n",
       "      <th>2</th>\n",
       "      <td>Herren</td>\n",
       "      <td>Bekleidung</td>\n",
       "      <td>T-Shirts &amp; Polos</td>\n",
       "      <td>T-Shirts basic</td>\n",
       "      <td>men</td>\n",
       "      <td>E2C22O012-B11</td>\n",
       "      <td>NaN</td>\n",
       "      <td>DISCREET OVERSIZED TEE - T-Shirt basic - beige</td>\n",
       "      <td>49.90</td>\n",
       "      <td>49.90</td>\n",
       "      <td>...</td>\n",
       "      <td>NaN</td>\n",
       "      <td>49,90?</td>\n",
       "      <td>ESTEEM</td>\n",
       "      <td>NaN</td>\n",
       "      <td>https://www.zalando.de/herren/?q=E2C22O012-B11</td>\n",
       "      <td>https://www.zalando.de/herrenbekleidung-shirts...</td>\n",
       "      <td>Herren&gt;Bekleidung&gt;T-Shirts &amp; Polos&gt;T-Shirts basic</td>\n",
       "      <td>3</td>\n",
       "      <td>2023/1/29 1:31</td>\n",
       "      <td>24425900</td>\n",
       "    </tr>\n",
       "    <tr>\n",
       "      <th>3</th>\n",
       "      <td>Herren</td>\n",
       "      <td>Bekleidung</td>\n",
       "      <td>T-Shirts &amp; Polos</td>\n",
       "      <td>T-Shirts basic</td>\n",
       "      <td>men</td>\n",
       "      <td>MA322O03J-A11</td>\n",
       "      <td>NaN</td>\n",
       "      <td>C-NECK - T-Shirt basic - white</td>\n",
       "      <td>19.95</td>\n",
       "      <td>19.95</td>\n",
       "      <td>...</td>\n",
       "      <td>NaN</td>\n",
       "      <td>19,95?</td>\n",
       "      <td>Marc O'Polo</td>\n",
       "      <td>NaN</td>\n",
       "      <td>https://www.zalando.de/herren/?q=MA322O03J-A11</td>\n",
       "      <td>https://www.zalando.de/herrenbekleidung-shirts...</td>\n",
       "      <td>Herren&gt;Bekleidung&gt;T-Shirts &amp; Polos&gt;T-Shirts basic</td>\n",
       "      <td>4</td>\n",
       "      <td>2023/1/29 1:31</td>\n",
       "      <td>24425901</td>\n",
       "    </tr>\n",
       "    <tr>\n",
       "      <th>4</th>\n",
       "      <td>Herren</td>\n",
       "      <td>Bekleidung</td>\n",
       "      <td>T-Shirts &amp; Polos</td>\n",
       "      <td>T-Shirts basic</td>\n",
       "      <td>men</td>\n",
       "      <td>BEJ22O0OZ-Q11</td>\n",
       "      <td>NaN</td>\n",
       "      <td>OVERSIZED SHORT SLEEVE 02295443 - T-Shirt basi...</td>\n",
       "      <td>9.99</td>\n",
       "      <td>9.99</td>\n",
       "      <td>...</td>\n",
       "      <td>NaN</td>\n",
       "      <td>9,99?</td>\n",
       "      <td>Bershka</td>\n",
       "      <td>NaN</td>\n",
       "      <td>https://www.zalando.de/herren/?q=BEJ22O0OZ-Q11</td>\n",
       "      <td>https://www.zalando.de/herrenbekleidung-shirts...</td>\n",
       "      <td>Herren&gt;Bekleidung&gt;T-Shirts &amp; Polos&gt;T-Shirts basic</td>\n",
       "      <td>5</td>\n",
       "      <td>2023/1/29 1:31</td>\n",
       "      <td>24425902</td>\n",
       "    </tr>\n",
       "  </tbody>\n",
       "</table>\n",
       "<p>5 rows × 21 columns</p>\n",
       "</div>"
      ],
      "text/plain": [
       "  DEPARTMENT    CATEGORY       SUBCATEGORY  SUBSUBCATEGORY GENDER  \\\n",
       "0     Herren  Bekleidung  T-Shirts & Polos  T-Shirts basic    men   \n",
       "1     Herren  Bekleidung  T-Shirts & Polos  T-Shirts basic    men   \n",
       "2     Herren  Bekleidung  T-Shirts & Polos  T-Shirts basic    men   \n",
       "3     Herren  Bekleidung  T-Shirts & Polos  T-Shirts basic    men   \n",
       "4     Herren  Bekleidung  T-Shirts & Polos  T-Shirts basic    men   \n",
       "\n",
       "             SKU  SKU_VARIANT  \\\n",
       "0  CZ522O06S-J11          NaN   \n",
       "1  JA222O37Z-Q11          NaN   \n",
       "2  E2C22O012-B11          NaN   \n",
       "3  MA322O03J-A11          NaN   \n",
       "4  BEJ22O0OZ-Q11          NaN   \n",
       "\n",
       "                                        PRODUCT_NAME  PRICE_RETAIL  \\\n",
       "0                         BRO - T-Shirt basic - pink         39.95   \n",
       "1         3 PACK  - T-Shirt basic - black/white/grey         38.85   \n",
       "2     DISCREET OVERSIZED TEE - T-Shirt basic - beige         49.90   \n",
       "3                     C-NECK - T-Shirt basic - white         19.95   \n",
       "4  OVERSIZED SHORT SLEEVE 02295443 - T-Shirt basi...          9.99   \n",
       "\n",
       "   PRICE_CURRENT  ... PRICE_LABEL PRICE_CURRENT_RAW         BRAND PROMOTION  \\\n",
       "0          29.95  ...         NaN           29,95?       CHASIN'       NaN   \n",
       "1          36.95  ...         NaN           36,95?  Jack & Jones       NaN   \n",
       "2          49.90  ...         NaN           49,90?        ESTEEM       NaN   \n",
       "3          19.95  ...         NaN           19,95?   Marc O'Polo       NaN   \n",
       "4           9.99  ...         NaN            9,99?       Bershka       NaN   \n",
       "\n",
       "                                              URL  \\\n",
       "0  https://www.zalando.de/herren/?q=CZ522O06S-J11   \n",
       "1  https://www.zalando.de/herren/?q=JA222O37Z-Q11   \n",
       "2  https://www.zalando.de/herren/?q=E2C22O012-B11   \n",
       "3  https://www.zalando.de/herren/?q=MA322O03J-A11   \n",
       "4  https://www.zalando.de/herren/?q=BEJ22O0OZ-Q11   \n",
       "\n",
       "                                          SOURCE_URL  \\\n",
       "0  https://www.zalando.de/herrenbekleidung-shirts...   \n",
       "1  https://www.zalando.de/herrenbekleidung-shirts...   \n",
       "2  https://www.zalando.de/herrenbekleidung-shirts...   \n",
       "3  https://www.zalando.de/herrenbekleidung-shirts...   \n",
       "4  https://www.zalando.de/herrenbekleidung-shirts...   \n",
       "\n",
       "                                         BREADCRUMBS SORT_BY_RANKING  \\\n",
       "0  Herren>Bekleidung>T-Shirts & Polos>T-Shirts basic               1   \n",
       "1  Herren>Bekleidung>T-Shirts & Polos>T-Shirts basic               2   \n",
       "2  Herren>Bekleidung>T-Shirts & Polos>T-Shirts basic               3   \n",
       "3  Herren>Bekleidung>T-Shirts & Polos>T-Shirts basic               4   \n",
       "4  Herren>Bekleidung>T-Shirts & Polos>T-Shirts basic               5   \n",
       "\n",
       "        SCAN_DATE       TID  \n",
       "0  2023/1/29 1:31  24425898  \n",
       "1  2023/1/29 1:31  24425899  \n",
       "2  2023/1/29 1:31  24425900  \n",
       "3  2023/1/29 1:31  24425901  \n",
       "4  2023/1/29 1:31  24425902  \n",
       "\n",
       "[5 rows x 21 columns]"
      ]
     },
     "execution_count": 36,
     "metadata": {},
     "output_type": "execute_result"
    }
   ],
   "source": [
    "import pandas as pd\n",
    "\n",
    "# Load dataset with ISO-8859-1 encoding\n",
    "dataset = pd.read_csv(\"D:\\\\Project_zalando\\\\DE_Zalando_Product.csv\", encoding='ISO-8859-1')\n",
    "dataset.head()\n"
   ]
  },
  {
   "cell_type": "code",
   "execution_count": 2,
   "id": "f67af101",
   "metadata": {
    "ExecuteTime": {
     "end_time": "2024-10-06T12:39:51.601003Z",
     "start_time": "2024-10-06T12:39:51.580003Z"
    },
    "collapsed": true
   },
   "outputs": [
    {
     "name": "stdout",
     "output_type": "stream",
     "text": [
      "Dataset Shape: (999, 21)\n",
      "Column Info:\n",
      "<class 'pandas.core.frame.DataFrame'>\n",
      "RangeIndex: 999 entries, 0 to 998\n",
      "Data columns (total 21 columns):\n",
      " #   Column             Non-Null Count  Dtype  \n",
      "---  ------             --------------  -----  \n",
      " 0   DEPARTMENT         999 non-null    object \n",
      " 1   CATEGORY           999 non-null    object \n",
      " 2   SUBCATEGORY        999 non-null    object \n",
      " 3   SUBSUBCATEGORY     999 non-null    object \n",
      " 4   GENDER             999 non-null    object \n",
      " 5   SKU                999 non-null    object \n",
      " 6   SKU_VARIANT        0 non-null      float64\n",
      " 7   PRODUCT_NAME       999 non-null    object \n",
      " 8   PRICE_RETAIL       999 non-null    float64\n",
      " 9   PRICE_CURRENT      999 non-null    float64\n",
      " 10  PRICE_RETAIL_RAW   999 non-null    object \n",
      " 11  PRICE_LABEL        205 non-null    object \n",
      " 12  PRICE_CURRENT_RAW  999 non-null    object \n",
      " 13  BRAND              999 non-null    object \n",
      " 14  PROMOTION          0 non-null      float64\n",
      " 15  URL                999 non-null    object \n",
      " 16  SOURCE_URL         999 non-null    object \n",
      " 17  BREADCRUMBS        999 non-null    object \n",
      " 18  SORT_BY_RANKING    999 non-null    int64  \n",
      " 19  SCAN_DATE          999 non-null    object \n",
      " 20  TID                999 non-null    int64  \n",
      "dtypes: float64(4), int64(2), object(15)\n",
      "memory usage: 164.0+ KB\n",
      "None\n",
      "Missing Values:\n",
      "DEPARTMENT             0\n",
      "CATEGORY               0\n",
      "SUBCATEGORY            0\n",
      "SUBSUBCATEGORY         0\n",
      "GENDER                 0\n",
      "SKU                    0\n",
      "SKU_VARIANT          999\n",
      "PRODUCT_NAME           0\n",
      "PRICE_RETAIL           0\n",
      "PRICE_CURRENT          0\n",
      "PRICE_RETAIL_RAW       0\n",
      "PRICE_LABEL          794\n",
      "PRICE_CURRENT_RAW      0\n",
      "BRAND                  0\n",
      "PROMOTION            999\n",
      "URL                    0\n",
      "SOURCE_URL             0\n",
      "BREADCRUMBS            0\n",
      "SORT_BY_RANKING        0\n",
      "SCAN_DATE              0\n",
      "TID                    0\n",
      "dtype: int64\n",
      "Unique Values in String Columns:\n",
      "DEPARTMENT: 1 unique values\n",
      "CATEGORY: 1 unique values\n",
      "SUBCATEGORY: 1 unique values\n",
      "SUBSUBCATEGORY: 1 unique values\n",
      "GENDER: 1 unique values\n",
      "SKU: 998 unique values\n",
      "PRODUCT_NAME: 884 unique values\n",
      "PRICE_RETAIL_RAW: 105 unique values\n",
      "PRICE_LABEL: 1 unique values\n",
      "PRICE_CURRENT_RAW: 196 unique values\n",
      "BRAND: 145 unique values\n",
      "URL: 998 unique values\n",
      "SOURCE_URL: 1 unique values\n",
      "BREADCRUMBS: 1 unique values\n",
      "SCAN_DATE: 1 unique values\n"
     ]
    }
   ],
   "source": [
    "# Check the shape (number of rows and columns)\n",
    "print(\"Dataset Shape:\", dataset.shape)\n",
    "\n",
    "# Check for the column names and their data types\n",
    "print(\"Column Info:\")\n",
    "print(dataset.info())\n",
    "\n",
    "# Check for missing values in each column\n",
    "print(\"Missing Values:\")\n",
    "print(dataset.isnull().sum())\n",
    "\n",
    "# Check unique values in categorical columns (e.g., product category, brand)\n",
    "print(\"Unique Values in String Columns:\")\n",
    "string_columns = dataset.select_dtypes(include='object').columns\n",
    "for col in string_columns:\n",
    "    print(f\"{col}: {dataset[col].nunique()} unique values\")\n"
   ]
  },
  {
   "cell_type": "code",
   "execution_count": 3,
   "id": "30895d49",
   "metadata": {
    "ExecuteTime": {
     "end_time": "2024-10-06T12:39:51.610689Z",
     "start_time": "2024-10-06T12:39:51.602002Z"
    },
    "collapsed": true
   },
   "outputs": [
    {
     "name": "stdout",
     "output_type": "stream",
     "text": [
      "Missing Values:\n",
      "DEPARTMENT             0\n",
      "CATEGORY               0\n",
      "SUBCATEGORY            0\n",
      "SUBSUBCATEGORY         0\n",
      "GENDER                 0\n",
      "SKU                    0\n",
      "SKU_VARIANT          999\n",
      "PRODUCT_NAME           0\n",
      "PRICE_RETAIL           0\n",
      "PRICE_CURRENT          0\n",
      "PRICE_RETAIL_RAW       0\n",
      "PRICE_LABEL          794\n",
      "PRICE_CURRENT_RAW      0\n",
      "BRAND                  0\n",
      "PROMOTION            999\n",
      "URL                    0\n",
      "SOURCE_URL             0\n",
      "BREADCRUMBS            0\n",
      "SORT_BY_RANKING        0\n",
      "SCAN_DATE              0\n",
      "TID                    0\n",
      "dtype: int64\n"
     ]
    }
   ],
   "source": [
    "# Check for missing values in each column\n",
    "print(\"Missing Values:\")\n",
    "print(dataset.isnull().sum())"
   ]
  },
  {
   "cell_type": "code",
   "execution_count": 4,
   "id": "3402dad7",
   "metadata": {
    "ExecuteTime": {
     "end_time": "2024-10-06T12:39:51.639972Z",
     "start_time": "2024-10-06T12:39:51.613706Z"
    },
    "collapsed": true
   },
   "outputs": [
    {
     "name": "stdout",
     "output_type": "stream",
     "text": [
      "Statistical Summary for Numeric Columns:\n",
      "       SKU_VARIANT  PRICE_RETAIL  PRICE_CURRENT  PROMOTION  SORT_BY_RANKING  \\\n",
      "count          0.0    999.000000     999.000000        0.0       999.000000   \n",
      "mean           NaN     29.525035      24.219600        NaN       500.000000   \n",
      "std            NaN     14.587581      11.237873        NaN       288.530761   \n",
      "min            NaN      6.990000       5.000000        NaN         1.000000   \n",
      "25%            NaN     19.925000      15.990000        NaN       250.500000   \n",
      "50%            NaN     27.990000      22.550000        NaN       500.000000   \n",
      "75%            NaN     35.000000      29.950000        NaN       749.500000   \n",
      "max            NaN     99.990000      79.990000        NaN       999.000000   \n",
      "\n",
      "                TID  \n",
      "count  9.990000e+02  \n",
      "mean   2.442640e+07  \n",
      "std    2.885308e+02  \n",
      "min    2.442590e+07  \n",
      "25%    2.442615e+07  \n",
      "50%    2.442640e+07  \n",
      "75%    2.442665e+07  \n",
      "max    2.442690e+07  \n"
     ]
    }
   ],
   "source": [
    "# Generate summary statistics for numerical columns\n",
    "print(\"Statistical Summary for Numeric Columns:\")\n",
    "print(dataset.describe())\n"
   ]
  },
  {
   "cell_type": "code",
   "execution_count": 5,
   "id": "98388810",
   "metadata": {
    "ExecuteTime": {
     "end_time": "2024-10-06T12:39:51.650173Z",
     "start_time": "2024-10-06T12:39:51.644990Z"
    }
   },
   "outputs": [],
   "source": [
    "# Drop columns with all missing values\n",
    "dataset_cleaned = dataset.drop(columns=['SKU_VARIANT', 'PROMOTION'])\n"
   ]
  },
  {
   "cell_type": "code",
   "execution_count": 6,
   "id": "19fe5f28",
   "metadata": {
    "ExecuteTime": {
     "end_time": "2024-10-06T12:39:51.663550Z",
     "start_time": "2024-10-06T12:39:51.652183Z"
    }
   },
   "outputs": [],
   "source": [
    "# Fill missing values in PRICE_LABEL with 'Unknown'\n",
    "dataset_cleaned['PRICE_LABEL'].fillna('Unknown', inplace=True)\n"
   ]
  },
  {
   "cell_type": "code",
   "execution_count": 7,
   "id": "0f5dbe57",
   "metadata": {
    "ExecuteTime": {
     "end_time": "2024-10-06T12:39:51.680889Z",
     "start_time": "2024-10-06T12:39:51.665565Z"
    },
    "collapsed": true
   },
   "outputs": [
    {
     "name": "stdout",
     "output_type": "stream",
     "text": [
      "Remaining Missing Values:\n",
      "DEPARTMENT           0\n",
      "CATEGORY             0\n",
      "SUBCATEGORY          0\n",
      "SUBSUBCATEGORY       0\n",
      "GENDER               0\n",
      "SKU                  0\n",
      "PRODUCT_NAME         0\n",
      "PRICE_RETAIL         0\n",
      "PRICE_CURRENT        0\n",
      "PRICE_RETAIL_RAW     0\n",
      "PRICE_LABEL          0\n",
      "PRICE_CURRENT_RAW    0\n",
      "BRAND                0\n",
      "URL                  0\n",
      "SOURCE_URL           0\n",
      "BREADCRUMBS          0\n",
      "SORT_BY_RANKING      0\n",
      "SCAN_DATE            0\n",
      "TID                  0\n",
      "dtype: int64\n"
     ]
    }
   ],
   "source": [
    "# Check for any remaining missing values\n",
    "print(\"Remaining Missing Values:\")\n",
    "print(dataset_cleaned.isnull().sum())\n"
   ]
  },
  {
   "cell_type": "code",
   "execution_count": 8,
   "id": "782c93d0",
   "metadata": {
    "ExecuteTime": {
     "end_time": "2024-10-06T12:39:51.705551Z",
     "start_time": "2024-10-06T12:39:51.682900Z"
    }
   },
   "outputs": [],
   "source": [
    "# Convert SCAN_DATE to datetime format\n",
    "dataset_cleaned['SCAN_DATE'] = pd.to_datetime(dataset_cleaned['SCAN_DATE'])\n",
    "\n",
    "# Optionally extract year, month, day\n",
    "dataset_cleaned['scan_year'] = dataset_cleaned['SCAN_DATE'].dt.year\n",
    "dataset_cleaned['scan_month'] = dataset_cleaned['SCAN_DATE'].dt.month\n"
   ]
  },
  {
   "cell_type": "code",
   "execution_count": 9,
   "id": "c95bc173",
   "metadata": {
    "ExecuteTime": {
     "end_time": "2024-10-06T12:39:51.736527Z",
     "start_time": "2024-10-06T12:39:51.708589Z"
    }
   },
   "outputs": [],
   "source": [
    "# Save the cleaned dataset to a new CSV file\n",
    "dataset_cleaned.to_csv(\"D:\\\\Project_zalando\\\\DE_Zalando_Product_Cleaned.csv\", index=False)\n"
   ]
  },
  {
   "cell_type": "code",
   "execution_count": 10,
   "id": "0d32dcda",
   "metadata": {
    "ExecuteTime": {
     "end_time": "2024-10-06T12:39:51.746412Z",
     "start_time": "2024-10-06T12:39:51.737910Z"
    },
    "collapsed": true
   },
   "outputs": [
    {
     "name": "stdout",
     "output_type": "stream",
     "text": [
      "BRAND\n",
      "9N1M SENSE                      22.55000\n",
      "AC&CO / ALTINYILDIZ CLASSICS    34.99000\n",
      "ARKET                           18.95000\n",
      "ARKK Copenhagen                 39.95000\n",
      "ASICS                           24.95000\n",
      "                                  ...   \n",
      "camano                          29.99000\n",
      "fortyfour                       26.90000\n",
      "s.Oliver                        17.45375\n",
      "uncover by Schiesser            19.95000\n",
      "yazubi                          29.96750\n",
      "Name: PRICE_CURRENT, Length: 145, dtype: float64\n"
     ]
    }
   ],
   "source": [
    "# Average price by brand\n",
    "avg_price_by_brand = dataset_cleaned.groupby('BRAND')['PRICE_CURRENT'].mean()\n",
    "print(avg_price_by_brand)\n"
   ]
  },
  {
   "cell_type": "code",
   "execution_count": 11,
   "id": "2993b7e0",
   "metadata": {
    "ExecuteTime": {
     "end_time": "2024-10-06T12:39:51.757395Z",
     "start_time": "2024-10-06T12:39:51.748426Z"
    }
   },
   "outputs": [
    {
     "name": "stdout",
     "output_type": "stream",
     "text": [
      "GENDER\n",
      "men    999\n",
      "Name: count, dtype: int64\n"
     ]
    }
   ],
   "source": [
    "# Product count by gender\n",
    "product_count_by_gender = dataset_cleaned['GENDER'].value_counts()\n",
    "print(product_count_by_gender)\n"
   ]
  },
  {
   "cell_type": "code",
   "execution_count": 12,
   "id": "5bb12045",
   "metadata": {
    "ExecuteTime": {
     "end_time": "2024-10-06T12:39:51.771789Z",
     "start_time": "2024-10-06T12:39:51.758405Z"
    }
   },
   "outputs": [
    {
     "name": "stdout",
     "output_type": "stream",
     "text": [
      "Unique Categories: ['Bekleidung']\n"
     ]
    }
   ],
   "source": [
    "# Check unique categories\n",
    "unique_categories = dataset_cleaned['CATEGORY'].unique()\n",
    "print(\"Unique Categories:\", unique_categories)\n"
   ]
  },
  {
   "cell_type": "code",
   "execution_count": 13,
   "id": "9d1bd38f",
   "metadata": {
    "ExecuteTime": {
     "end_time": "2024-10-06T12:39:51.786601Z",
     "start_time": "2024-10-06T12:39:51.774800Z"
    }
   },
   "outputs": [
    {
     "name": "stdout",
     "output_type": "stream",
     "text": [
      "Category Distribution:\n",
      "CATEGORY\n",
      "Bekleidung    999\n",
      "Name: count, dtype: int64\n"
     ]
    }
   ],
   "source": [
    "# Check the distribution of values in the CATEGORY column\n",
    "category_distribution = dataset_cleaned['CATEGORY'].value_counts()\n",
    "print(\"Category Distribution:\")\n",
    "print(category_distribution)\n"
   ]
  },
  {
   "cell_type": "code",
   "execution_count": 14,
   "id": "ac580434",
   "metadata": {
    "ExecuteTime": {
     "end_time": "2024-10-06T12:39:51.800196Z",
     "start_time": "2024-10-06T12:39:51.791605Z"
    }
   },
   "outputs": [
    {
     "name": "stdout",
     "output_type": "stream",
     "text": [
      "Cleaned Unique Categories: ['bekleidung']\n"
     ]
    }
   ],
   "source": [
    "# Clean CATEGORY column: strip leading/trailing spaces and lowercase all values\n",
    "dataset_cleaned['CATEGORY'] = dataset_cleaned['CATEGORY'].str.strip().str.lower()\n",
    "\n",
    "# Check unique categories again after cleaning\n",
    "unique_categories_cleaned = dataset_cleaned['CATEGORY'].unique()\n",
    "print(\"Cleaned Unique Categories:\", unique_categories_cleaned)\n"
   ]
  },
  {
   "cell_type": "code",
   "execution_count": 15,
   "id": "1a1b2a0a",
   "metadata": {
    "ExecuteTime": {
     "end_time": "2024-10-06T12:39:51.813563Z",
     "start_time": "2024-10-06T12:39:51.802200Z"
    }
   },
   "outputs": [
    {
     "name": "stdout",
     "output_type": "stream",
     "text": [
      "Average Price by Category After Cleaning:\n",
      "CATEGORY\n",
      "bekleidung    24.2196\n",
      "Name: PRICE_CURRENT, dtype: float64\n"
     ]
    }
   ],
   "source": [
    "# Re-group by CATEGORY and calculate the average price after cleaning\n",
    "avg_price_by_category_cleaned = dataset_cleaned.groupby('CATEGORY')['PRICE_CURRENT'].mean()\n",
    "\n",
    "# Display the average price by category\n",
    "print(\"Average Price by Category After Cleaning:\")\n",
    "print(avg_price_by_category_cleaned)\n"
   ]
  },
  {
   "cell_type": "code",
   "execution_count": 16,
   "id": "5d1126b5",
   "metadata": {
    "ExecuteTime": {
     "end_time": "2024-10-06T12:39:53.628098Z",
     "start_time": "2024-10-06T12:39:51.816577Z"
    },
    "collapsed": true
   },
   "outputs": [
    {
     "data": {
      "image/png": "[encoded data removed]",
      "text/plain": [
       "<Figure size 800x600 with 1 Axes>"
      ]
     },
     "metadata": {
      "needs_background": "dark"
     },
     "output_type": "display_data"
    }
   ],
   "source": [
    "import matplotlib.pyplot as plt\n",
    "import seaborn as sns\n",
    "\n",
    "# Plot price distribution\n",
    "plt.figure(figsize=(8, 6))\n",
    "sns.histplot(dataset_cleaned['PRICE_CURRENT'], bins=20, kde=True, color='skyblue')\n",
    "\n",
    "# Add title and labels\n",
    "plt.title('Price Distribution in Bekleidung Category', fontsize=14)\n",
    "plt.xlabel('Price (Current)', fontsize=12)\n",
    "plt.ylabel('Frequency', fontsize=12)\n",
    "\n",
    "# Show plot\n",
    "plt.tight_layout()\n",
    "plt.savefig('D:\\\\Project_zalando\\\\Price Distribution in Bekleidung Category.png', dpi=300)  \n",
    "plt.show()\n"
   ]
  },
  {
   "cell_type": "code",
   "execution_count": 17,
   "id": "d692e548",
   "metadata": {
    "ExecuteTime": {
     "end_time": "2024-10-06T12:39:53.636113Z",
     "start_time": "2024-10-06T12:39:53.630110Z"
    },
    "collapsed": true
   },
   "outputs": [
    {
     "name": "stdout",
     "output_type": "stream",
     "text": [
      "Available Brands: [\"CHASIN'\" 'Jack & Jones' 'ESTEEM' \"Marc O'Polo\" 'Bershka' 'PULL&BEAR'\n",
      " 'Hummel' 'PITTMAN' 'Lee' 'Spitzbub' 'G-Star' 'Jordan' 'Vans' 'BEHYPE'\n",
      " 'Tommy Jeans' 'FORSBERG' 'Alpha Industries' 'Karl Kani' 'INDICODE JEANS'\n",
      " 'BONDELID' 'SOULSTAR' 'Daniel Hechter' 'Scotch & Soda' 'Nike Performance'\n",
      " 'Pier One' 'C&A' \"Levi's?\" 'Tazzio' 'BOSS' 'Nike Sportswear' 'yazubi'\n",
      " 'Urban Classics' 'Under Armour' 'Weekday' 'Calvin Klein Jeans'\n",
      " 'adidas Originals' 'Denim Project' 'camano' 'Hollister Co.' 'Pegador'\n",
      " 'YOURTURN' 'Abercrombie & Fitch' 'Street One MEN' 'Ombre' 'Only & Sons'\n",
      " 'HUGO' 'Cotton Prime' 'TOM TAILOR' 'Jack & Jones PREMIUM' 'MIKON' 'OLYMP'\n",
      " 'YOUNG POETS' 'Selected Homme' 'Big Star' 's.Oliver' 'Superdry' 'Zign'\n",
      " 'Tommy Hilfiger' 'BONOBO Jeans' 'SIKSILK' 'Lyle & Scott' 'Cross Jeans'\n",
      " 'Lacoste' 'Redefined Rebel' 'Starter' 'ARKET' 'fortyfour' 'Belstaff'\n",
      " '9N1M SENSE' 'Dovre' 'U.S. Polo Assn.' 'DeFacto' 'Carhartt WIP'\n",
      " 'PME Legend' 'Esprit' 'Calvin Klein Jeans Plus' 'Next' 'GANT'\n",
      " 'WE Fashion' 'TOM TAILOR DENIM' 'CLOCKHOUSE' 'New Era' 'New Balance'\n",
      " 'FADED' 'G-Star Plus' 'DRYKORN' 'Clean Cut Copenhagen' 'Pepe Jeans'\n",
      " 'River Island' 'Champion' 'Bruno Banani' 'Mustang' 'Mango' 'Tezenis'\n",
      " 'H.I.S' \"Levi's? Plus\" 'LERROS' 'Kappa' 'Hype' 'Polo Ralph Lauren'\n",
      " 'GRIMELANGE' 'Newport Bay Sailing Club' 'Ellesse' 'Black Bananas'\n",
      " 'Les Benjamins' 'Buratti' 'Phil & Co. Berlin' 'Quiksilver' 'Timberland'\n",
      " 'Cotton On' 'Dickies' 'Volcom' 'Les Deux' 'Fynch-Hatton' 'One Redox'\n",
      " 'Casual Friday' 'JCC' 'Massimo Dutti' 'Barbour International'\n",
      " 'adidas Performance' 'Wood Wood' 'Tiger of Sweden' 'Marvelis' 'Fila'\n",
      " 'Puma' 'Solid' 'QS by s.Oliver' 'Key Largo' 'Converse'\n",
      " 'uncover by Schiesser' 'Strellson' 'Reebok Classic' 'Denim Culture'\n",
      " 'ASICS' 'Johnny Bigg' 'AC&CO / ALTINYILDIZ CLASSICS' 'ODLO' 'Napapijri'\n",
      " 'Trueprodigy' 'ARKK Copenhagen' 'Wrangler' 'JOOP!' 'Lindbergh'\n",
      " 'Polo Ralph Lauren Big & Tall' 'Filling Pieces']\n"
     ]
    }
   ],
   "source": [
    "# Get the list of unique brands\n",
    "unique_brands = dataset_cleaned['BRAND'].unique()\n",
    "\n",
    "# Display the unique brands\n",
    "print(\"Available Brands:\", unique_brands)\n"
   ]
  },
  {
   "cell_type": "code",
   "execution_count": 18,
   "id": "e9cbccd4",
   "metadata": {
    "ExecuteTime": {
     "end_time": "2024-10-06T12:39:53.661366Z",
     "start_time": "2024-10-06T12:39:53.638125Z"
    },
    "collapsed": true
   },
   "outputs": [
    {
     "name": "stdout",
     "output_type": "stream",
     "text": [
      "['Nike Sportswear' 'Calvin Klein Jeans' 'adidas Originals' 'HUGO'\n",
      " 'Tommy Hilfiger' 'Kappa' 'Ellesse' 'Puma']\n",
      "   DEPARTMENT    CATEGORY       SUBCATEGORY  SUBSUBCATEGORY GENDER  \\\n",
      "52     Herren  bekleidung  T-Shirts & Polos  T-Shirts basic    men   \n",
      "63     Herren  bekleidung  T-Shirts & Polos  T-Shirts basic    men   \n",
      "65     Herren  bekleidung  T-Shirts & Polos  T-Shirts basic    men   \n",
      "69     Herren  bekleidung  T-Shirts & Polos  T-Shirts basic    men   \n",
      "75     Herren  bekleidung  T-Shirts & Polos  T-Shirts basic    men   \n",
      "\n",
      "              SKU                                     PRODUCT_NAME  \\\n",
      "52  NI122O0CE-G12  CLUB TEE - T-Shirt basic - university red/white   \n",
      "63  C182101V6-Q11       MICRO MONOLOGO TEE - T-Shirt basic - black   \n",
      "65  AD122O0TN-K11          TRACE TEE - T-Shirt basic - almost blue   \n",
      "69  NI122O0CE-Q11           CLUB TEE - T-Shirt basic - black/white   \n",
      "75  NI122O0CE-K12   CLUB TEE - T-Shirt basic - midnight navy/white   \n",
      "\n",
      "    PRICE_RETAIL  PRICE_CURRENT PRICE_RETAIL_RAW  ... PRICE_CURRENT_RAW  \\\n",
      "52         19.95          17.00          19,95?  ...           17,00?   \n",
      "63         39.95          31.95          39,95?  ...           31,95?   \n",
      "65         37.95          37.95          37,95?  ...           37,95?   \n",
      "69         24.95          24.95          24,95?  ...           24,95?   \n",
      "75         24.95          24.95          24,95?  ...           24,95?   \n",
      "\n",
      "                 BRAND                                             URL  \\\n",
      "52     Nike Sportswear  https://www.zalando.de/herren/?q=NI122O0CE-G12   \n",
      "63  Calvin Klein Jeans  https://www.zalando.de/herren/?q=C182101V6-Q11   \n",
      "65    adidas Originals  https://www.zalando.de/herren/?q=AD122O0TN-K11   \n",
      "69     Nike Sportswear  https://www.zalando.de/herren/?q=NI122O0CE-Q11   \n",
      "75     Nike Sportswear  https://www.zalando.de/herren/?q=NI122O0CE-K12   \n",
      "\n",
      "                                           SOURCE_URL  \\\n",
      "52  https://www.zalando.de/herrenbekleidung-shirts...   \n",
      "63  https://www.zalando.de/herrenbekleidung-shirts...   \n",
      "65  https://www.zalando.de/herrenbekleidung-shirts...   \n",
      "69  https://www.zalando.de/herrenbekleidung-shirts...   \n",
      "75  https://www.zalando.de/herrenbekleidung-shirts...   \n",
      "\n",
      "                                          BREADCRUMBS SORT_BY_RANKING  \\\n",
      "52  Herren>Bekleidung>T-Shirts & Polos>T-Shirts basic              53   \n",
      "63  Herren>Bekleidung>T-Shirts & Polos>T-Shirts basic              64   \n",
      "65  Herren>Bekleidung>T-Shirts & Polos>T-Shirts basic              66   \n",
      "69  Herren>Bekleidung>T-Shirts & Polos>T-Shirts basic              70   \n",
      "75  Herren>Bekleidung>T-Shirts & Polos>T-Shirts basic              76   \n",
      "\n",
      "             SCAN_DATE       TID  scan_year  scan_month  \n",
      "52 2023-01-29 01:31:00  24425950       2023           1  \n",
      "63 2023-01-29 01:31:00  24425961       2023           1  \n",
      "65 2023-01-29 01:31:00  24425963       2023           1  \n",
      "69 2023-01-29 01:31:00  24425967       2023           1  \n",
      "75 2023-01-29 01:31:00  24425973       2023           1  \n",
      "\n",
      "[5 rows x 21 columns]\n"
     ]
    }
   ],
   "source": [
    "# Define the list of specific brands you are interested in\n",
    "selected_brands = ['HUGO', 'adidas Originals', 'Tommy Hilfiger', 'Nike Sportswear', \n",
    "                   'Calvin Klein Jeans', 'Ellesse', 'Kappa', 'Puma']\n",
    "\n",
    "# Filter the dataset to include only the selected brands\n",
    "filtered_dataset = dataset_cleaned[dataset_cleaned['BRAND'].isin(selected_brands)]\n",
    "\n",
    "# Check the filtered dataset (optional, to confirm filtering worked)\n",
    "print(filtered_dataset['BRAND'].unique())  # Display unique brands in the filtered dataset\n",
    "print(filtered_dataset.head())  # Preview the first few rows\n"
   ]
  },
  {
   "cell_type": "code",
   "execution_count": 19,
   "id": "c19b4895",
   "metadata": {
    "ExecuteTime": {
     "end_time": "2024-10-06T12:39:54.371094Z",
     "start_time": "2024-10-06T12:39:53.663377Z"
    },
    "collapsed": true
   },
   "outputs": [
    {
     "name": "stdout",
     "output_type": "stream",
     "text": [
      "Average Price by Selected Brands:\n",
      "BRAND\n",
      "Calvin Klein Jeans    34.458333\n",
      "Ellesse               22.450000\n",
      "HUGO                  43.750000\n",
      "Kappa                 17.950000\n",
      "Nike Sportswear       27.220000\n",
      "Puma                  21.425000\n",
      "Tommy Hilfiger        37.339412\n",
      "adidas Originals      28.507143\n",
      "Name: PRICE_CURRENT, dtype: float64\n"
     ]
    },
    {
     "data": {
      "image/png": "[encoded data removed]",
      "text/plain": [
       "<Figure size 1200x600 with 1 Axes>"
      ]
     },
     "metadata": {
      "needs_background": "dark"
     },
     "output_type": "display_data"
    }
   ],
   "source": [
    "# Group by BRAND and calculate the average price for each of the selected brands\n",
    "avg_price_selected_brands = filtered_dataset.groupby('BRAND')['PRICE_CURRENT'].mean()\n",
    "\n",
    "# Display the average price for the selected brands\n",
    "print(\"Average Price by Selected Brands:\")\n",
    "print(avg_price_selected_brands)\n",
    "\n",
    "# Plot the average price for the selected brands\n",
    "avg_price_selected_brands.plot(kind='bar', figsize=(12, 6), color='green')\n",
    "plt.title('Average Price by Selected Brands in Bekleidung Category')\n",
    "plt.xlabel('Brand')\n",
    "plt.ylabel('Average Price (Current)')\n",
    "plt.xticks(rotation=45)\n",
    "plt.tight_layout()\n",
    "plt.savefig('D:\\\\Project_zalando\\\\Average Price by Selected Brands in Bekleidung Category.png', dpi=300)  # Save as PNG, you can change the filename and format if needed\n",
    "plt.show()\n"
   ]
  },
  {
   "cell_type": "code",
   "execution_count": 20,
   "id": "aaebe06b",
   "metadata": {
    "ExecuteTime": {
     "end_time": "2024-10-06T12:39:54.379870Z",
     "start_time": "2024-10-06T12:39:54.373105Z"
    }
   },
   "outputs": [
    {
     "name": "stdout",
     "output_type": "stream",
     "text": [
      "BRAND\n",
      "Nike Sportswear       20\n",
      "Tommy Hilfiger        17\n",
      "HUGO                  14\n",
      "adidas Originals       7\n",
      "Calvin Klein Jeans     6\n",
      "Puma                   6\n",
      "Kappa                  2\n",
      "Ellesse                2\n",
      "Name: count, dtype: int64\n"
     ]
    }
   ],
   "source": [
    "# Check unique brands and their counts\n",
    "print(filtered_dataset['BRAND'].value_counts())\n"
   ]
  },
  {
   "cell_type": "code",
   "execution_count": 33,
   "id": "aabaaefa",
   "metadata": {
    "ExecuteTime": {
     "end_time": "2024-10-06T12:42:11.725106Z",
     "start_time": "2024-10-06T12:42:10.710305Z"
    },
    "collapsed": true
   },
   "outputs": [
    {
     "data": {
      "image/png": "[encoded data removed]",
      "text/plain": [
       "<Figure size 1000x600 with 1 Axes>"
      ]
     },
     "metadata": {
      "needs_background": "dark"
     },
     "output_type": "display_data"
    }
   ],
   "source": [
    "import seaborn as sns\n",
    "import matplotlib.pyplot as plt\n",
    "\n",
    "# Assuming filtered_dataset is already defined with relevant data\n",
    "\n",
    "# Plot price distribution for the selected brands\n",
    "plt.figure(figsize=(10, 6))\n",
    "hist_plot = sns.histplot(data=filtered_dataset, x='PRICE_CURRENT', hue='BRAND', multiple='stack', bins=20)\n",
    "\n",
    "# Adding titles and labels\n",
    "plt.title('Price Distribution for Selected Brands')\n",
    "plt.xlabel('Price (Current)')\n",
    "plt.ylabel('Frequency')\n",
    "\n",
    "# Manually define the brands for the legend\n",
    "brands = ['HUGO', 'adidas Originals', 'Tommy Hilfiger', 'Nike Sportswear',\n",
    "          'Calvin Klein Jeans', 'Ellesse', 'Kappa', 'Puma']\n",
    "\n",
    "# Create custom handles for the specified brands\n",
    "colors = sns.color_palette('Set3', len(brands))  # Using a Seaborn color palette\n",
    "handles = [plt.Line2D([0], [0], color=colors[i], lw=4) for i in range(len(brands))]\n",
    "\n",
    "# Move the legend outside the plot area, to the left above the plot\n",
    "plt.legend(handles, brands, title='Brand', loc='center right', bbox_to_anchor=(1.0, 0.8), ncol=2)\n",
    "plt.tight_layout()\n",
    "plt.savefig('D:\\\\Project_zalando\\\\Price Distribution for Selected Brands.png', dpi=300) \n",
    "plt.show()\n"
   ]
  },
  {
   "cell_type": "code",
   "execution_count": 22,
   "id": "46c50822",
   "metadata": {
    "ExecuteTime": {
     "end_time": "2024-10-06T12:39:55.564927Z",
     "start_time": "2024-10-06T12:39:55.540146Z"
    }
   },
   "outputs": [
    {
     "name": "stdout",
     "output_type": "stream",
     "text": [
      "ANOVA Test Results:\n",
      "F-statistic: 8.801679886019123\n",
      "P-value: 1.3335379449527272e-07\n",
      "Reject the null hypothesis: There are significant differences in price among brands.\n"
     ]
    }
   ],
   "source": [
    "from scipy import stats\n",
    "\n",
    "# Perform ANOVA test\n",
    "anova_results = stats.f_oneway(\n",
    "    *(filtered_dataset[filtered_dataset['BRAND'] == brand]['PRICE_CURRENT'] for brand in filtered_dataset['BRAND'].unique())\n",
    ")\n",
    "\n",
    "print(\"ANOVA Test Results:\")\n",
    "print(\"F-statistic:\", anova_results.statistic)\n",
    "print(\"P-value:\", anova_results.pvalue)\n",
    "\n",
    "# Interpretation\n",
    "if anova_results.pvalue < 0.05:\n",
    "    print(\"Reject the null hypothesis: There are significant differences in price among brands.\")\n",
    "else:\n",
    "    print(\"Fail to reject the null hypothesis: No significant differences in price among brands.\")\n"
   ]
  },
  {
   "cell_type": "code",
   "execution_count": 23,
   "id": "d37ca5d2",
   "metadata": {
    "ExecuteTime": {
     "end_time": "2024-10-06T12:39:57.772306Z",
     "start_time": "2024-10-06T12:39:55.566937Z"
    },
    "collapsed": true
   },
   "outputs": [
    {
     "name": "stdout",
     "output_type": "stream",
     "text": [
      "               sum_sq    df        F        PR(>F)\n",
      "C(BRAND)  4223.463195   7.0  8.80168  1.333538e-07\n",
      "Residual  4524.275470  66.0      NaN           NaN\n",
      "            Multiple Comparison of Means - Tukey HSD, FWER=0.05            \n",
      "===========================================================================\n",
      "      group1            group2      meandiff p-adj   lower    upper  reject\n",
      "---------------------------------------------------------------------------\n",
      "Calvin Klein Jeans          Ellesse -12.0083 0.6379  -33.169  9.1524  False\n",
      "Calvin Klein Jeans             HUGO   9.2917 0.3093  -3.3543 21.9376  False\n",
      "Calvin Klein Jeans            Kappa -16.5083 0.2391  -37.669  4.6524  False\n",
      "Calvin Klein Jeans  Nike Sportswear  -7.2383 0.5704 -19.3018  4.8251  False\n",
      "Calvin Klein Jeans             Puma -13.0333 0.1329 -27.9962  1.9295  False\n",
      "Calvin Klein Jeans   Tommy Hilfiger   2.8811 0.9956  -9.4256 15.1877  False\n",
      "Calvin Klein Jeans adidas Originals  -5.9512 0.8987 -20.3698  8.4674  False\n",
      "           Ellesse             HUGO     21.3 0.0237    1.709  40.891   True\n",
      "           Ellesse            Kappa     -4.5 0.9994 -30.4165 21.4165  False\n",
      "           Ellesse  Nike Sportswear     4.77 0.9938 -14.4502 23.9902  False\n",
      "           Ellesse             Puma   -1.025    1.0 -22.1857 20.1357  False\n",
      "           Ellesse   Tommy Hilfiger  14.8894 0.2559  -4.4843 34.2631  False\n",
      "           Ellesse adidas Originals   6.0571 0.9838 -14.7223 26.8365  False\n",
      "              HUGO            Kappa    -25.8 0.0026  -45.391  -6.209   True\n",
      "              HUGO  Nike Sportswear   -16.53    0.0  -25.561  -7.499   True\n",
      "              HUGO             Puma  -22.325    0.0 -34.9709 -9.6791   True\n",
      "              HUGO   Tommy Hilfiger  -6.4106 0.3978  -15.764  2.9428  False\n",
      "              HUGO adidas Originals -15.2429 0.0041 -27.2398 -3.2459   True\n",
      "             Kappa  Nike Sportswear     9.27 0.7995  -9.9502 28.4902  False\n",
      "             Kappa             Puma    3.475 0.9996 -17.6857 24.6357  False\n",
      "             Kappa   Tommy Hilfiger  19.3894 0.0497   0.0157 38.7631   True\n",
      "             Kappa adidas Originals  10.5571 0.7543 -10.2223 31.3365  False\n",
      "   Nike Sportswear             Puma   -5.795 0.8027 -17.8585  6.2685  False\n",
      "   Nike Sportswear   Tommy Hilfiger  10.1194 0.0097     1.57 18.6688   True\n",
      "   Nike Sportswear adidas Originals   1.2871    1.0 -10.0942 12.6685  False\n",
      "              Puma   Tommy Hilfiger  15.9144 0.0033   3.6078 28.2211   True\n",
      "              Puma adidas Originals   7.0821 0.7844  -7.3364 21.5007  False\n",
      "    Tommy Hilfiger adidas Originals  -8.8323 0.2706 -20.4711  2.8065  False\n",
      "---------------------------------------------------------------------------\n"
     ]
    }
   ],
   "source": [
    "import statsmodels.api as sm\n",
    "from statsmodels.formula.api import ols\n",
    "from statsmodels.stats.multicomp import pairwise_tukeyhsd\n",
    "\n",
    "# Fit the model\n",
    "model = ols('PRICE_CURRENT ~ C(BRAND)', data=filtered_dataset).fit()\n",
    "anova_table = sm.stats.anova_lm(model, typ=2)\n",
    "\n",
    "# Print ANOVA table\n",
    "print(anova_table)\n",
    "\n",
    "# Perform Tukey HSD test\n",
    "tukey = pairwise_tukeyhsd(endog=filtered_dataset['PRICE_CURRENT'], groups=filtered_dataset['BRAND'], alpha=0.05)\n",
    "\n",
    "# Summary of Tukey HSD test\n",
    "print(tukey)\n"
   ]
  },
  {
   "cell_type": "code",
   "execution_count": 24,
   "id": "208d7bb8",
   "metadata": {
    "ExecuteTime": {
     "end_time": "2024-10-06T12:39:58.414034Z",
     "start_time": "2024-10-06T12:39:57.774321Z"
    },
    "collapsed": true
   },
   "outputs": [
    {
     "name": "stdout",
     "output_type": "stream",
     "text": [
      "Mean Squared Error: 81.48\n",
      "                  Coefficient\n",
      "Ellesse            -10.910000\n",
      "HUGO                14.501111\n",
      "Kappa              -15.410000\n",
      "Nike Sportswear     -5.075625\n",
      "Puma               -13.197500\n",
      "Tommy Hilfiger       3.712143\n",
      "adidas Originals    -4.852857\n"
     ]
    }
   ],
   "source": [
    "import pandas as pd\n",
    "from sklearn.model_selection import train_test_split\n",
    "from sklearn.linear_model import LinearRegression\n",
    "from sklearn.metrics import mean_squared_error\n",
    "\n",
    "# Assuming filtered_dataset has only 'PRICE_CURRENT' and 'BRAND'\n",
    "# One-Hot Encoding for the 'BRAND' feature\n",
    "features_encoded = pd.get_dummies(filtered_dataset['BRAND'], drop_first=True)\n",
    "\n",
    "# Prepare the target variable\n",
    "target = filtered_dataset['PRICE_CURRENT']\n",
    "\n",
    "# Splitting the data into training and testing sets\n",
    "X_train, X_test, y_train, y_test = train_test_split(features_encoded, target, test_size=0.2, random_state=42)\n",
    "\n",
    "# Create and fit the model\n",
    "model = LinearRegression()\n",
    "model.fit(X_train, y_train)\n",
    "\n",
    "# Make predictions\n",
    "y_pred = model.predict(X_test)\n",
    "\n",
    "# Evaluate the model\n",
    "mse = mean_squared_error(y_test, y_pred)\n",
    "print(f'Mean Squared Error: {mse:.2f}')\n",
    "\n",
    "# Optional: Print model coefficients\n",
    "coefficients = pd.DataFrame(model.coef_, index=features_encoded.columns, columns=['Coefficient'])\n",
    "print(coefficients)\n"
   ]
  },
  {
   "cell_type": "code",
   "execution_count": 25,
   "id": "d54fc0bd",
   "metadata": {
    "ExecuteTime": {
     "end_time": "2024-10-06T12:39:58.422436Z",
     "start_time": "2024-10-06T12:39:58.416044Z"
    },
    "collapsed": true
   },
   "outputs": [
    {
     "name": "stdout",
     "output_type": "stream",
     "text": [
      "Index(['DEPARTMENT', 'CATEGORY', 'SUBCATEGORY', 'SUBSUBCATEGORY', 'GENDER',\n",
      "       'SKU', 'PRODUCT_NAME', 'PRICE_RETAIL', 'PRICE_CURRENT',\n",
      "       'PRICE_RETAIL_RAW', 'PRICE_LABEL', 'PRICE_CURRENT_RAW', 'BRAND', 'URL',\n",
      "       'SOURCE_URL', 'BREADCRUMBS', 'SORT_BY_RANKING', 'SCAN_DATE', 'TID',\n",
      "       'scan_year', 'scan_month'],\n",
      "      dtype='object')\n"
     ]
    }
   ],
   "source": [
    "# Display the columns in the filtered_dataset\n",
    "print(filtered_dataset.columns)\n"
   ]
  },
  {
   "cell_type": "code",
   "execution_count": 26,
   "id": "0d0e408a",
   "metadata": {
    "ExecuteTime": {
     "end_time": "2024-10-06T12:39:58.456732Z",
     "start_time": "2024-10-06T12:39:58.423450Z"
    },
    "collapsed": true
   },
   "outputs": [
    {
     "name": "stdout",
     "output_type": "stream",
     "text": [
      "  DEPARTMENT    CATEGORY       SUBCATEGORY  SUBSUBCATEGORY GENDER  \\\n",
      "0     Herren  Bekleidung  T-Shirts & Polos  T-Shirts basic    men   \n",
      "1     Herren  Bekleidung  T-Shirts & Polos  T-Shirts basic    men   \n",
      "2     Herren  Bekleidung  T-Shirts & Polos  T-Shirts basic    men   \n",
      "3     Herren  Bekleidung  T-Shirts & Polos  T-Shirts basic    men   \n",
      "4     Herren  Bekleidung  T-Shirts & Polos  T-Shirts basic    men   \n",
      "\n",
      "             SKU                                       PRODUCT_NAME  \\\n",
      "0  CZ522O06S-J11                         BRO - T-Shirt basic - pink   \n",
      "1  JA222O37Z-Q11         3 PACK  - T-Shirt basic - black/white/grey   \n",
      "2  E2C22O012-B11     DISCREET OVERSIZED TEE - T-Shirt basic - beige   \n",
      "3  MA322O03J-A11                     C-NECK - T-Shirt basic - white   \n",
      "4  BEJ22O0OZ-Q11  OVERSIZED SHORT SLEEVE 02295443 - T-Shirt basi...   \n",
      "\n",
      "   PRICE_RETAIL  PRICE_CURRENT PRICE_RETAIL_RAW  ... PRICE_CURRENT_RAW  \\\n",
      "0         39.95          29.95         39,95?Â  ...          29,95?Â   \n",
      "1         38.85          36.95         38,85?Â  ...          36,95?Â   \n",
      "2         49.90          49.90         49,90?Â  ...          49,90?Â   \n",
      "3         19.95          19.95         19,95?Â  ...          19,95?Â   \n",
      "4          9.99           9.99          9,99?Â  ...           9,99?Â   \n",
      "\n",
      "          BRAND                                             URL  \\\n",
      "0       CHASIN'  https://www.zalando.de/herren/?q=CZ522O06S-J11   \n",
      "1  Jack & Jones  https://www.zalando.de/herren/?q=JA222O37Z-Q11   \n",
      "2        ESTEEM  https://www.zalando.de/herren/?q=E2C22O012-B11   \n",
      "3   Marc O'Polo  https://www.zalando.de/herren/?q=MA322O03J-A11   \n",
      "4       Bershka  https://www.zalando.de/herren/?q=BEJ22O0OZ-Q11   \n",
      "\n",
      "                                          SOURCE_URL  \\\n",
      "0  https://www.zalando.de/herrenbekleidung-shirts...   \n",
      "1  https://www.zalando.de/herrenbekleidung-shirts...   \n",
      "2  https://www.zalando.de/herrenbekleidung-shirts...   \n",
      "3  https://www.zalando.de/herrenbekleidung-shirts...   \n",
      "4  https://www.zalando.de/herrenbekleidung-shirts...   \n",
      "\n",
      "                                         BREADCRUMBS SORT_BY_RANKING  \\\n",
      "0  Herren>Bekleidung>T-Shirts & Polos>T-Shirts basic               1   \n",
      "1  Herren>Bekleidung>T-Shirts & Polos>T-Shirts basic               2   \n",
      "2  Herren>Bekleidung>T-Shirts & Polos>T-Shirts basic               3   \n",
      "3  Herren>Bekleidung>T-Shirts & Polos>T-Shirts basic               4   \n",
      "4  Herren>Bekleidung>T-Shirts & Polos>T-Shirts basic               5   \n",
      "\n",
      "             SCAN_DATE       TID  scan_year  scan_month  \n",
      "0  2023-01-29 01:31:00  24425898       2023           1  \n",
      "1  2023-01-29 01:31:00  24425899       2023           1  \n",
      "2  2023-01-29 01:31:00  24425900       2023           1  \n",
      "3  2023-01-29 01:31:00  24425901       2023           1  \n",
      "4  2023-01-29 01:31:00  24425902       2023           1  \n",
      "\n",
      "[5 rows x 21 columns]\n"
     ]
    }
   ],
   "source": [
    "import pandas as pd\n",
    "\n",
    "# Load dataset with ISO-8859-1 encoding\n",
    "dataset = pd.read_csv(\"D:\\\\Project_zalando\\\\DE_Zalando_Product_Cleaned.csv\", encoding='ISO-8859-1')\n",
    "\n",
    "# Preview the first few rows\n",
    "print(dataset.head())"
   ]
  },
  {
   "cell_type": "code",
   "execution_count": 27,
   "id": "21d6554f",
   "metadata": {
    "ExecuteTime": {
     "end_time": "2024-10-06T12:39:58.469655Z",
     "start_time": "2024-10-06T12:39:58.458747Z"
    },
    "collapsed": true
   },
   "outputs": [
    {
     "name": "stdout",
     "output_type": "stream",
     "text": [
      "Top Ten Selling Brands with Sales Amount:\n",
      "               BRAND  PRICE_CURRENT\n",
      "128   Urban Classics        1856.99\n",
      "98          Pier One        1487.22\n",
      "58      Jack & Jones        1251.09\n",
      "46            G-Star        1027.60\n",
      "127     Under Armour         764.17\n",
      "124      Tommy Jeans         737.35\n",
      "123   Tommy Hilfiger         634.77\n",
      "51              HUGO         612.50\n",
      "23      Carhartt WIP         565.30\n",
      "86   Nike Sportswear         544.40\n"
     ]
    }
   ],
   "source": [
    "# Calculate total sales amount for each brand\n",
    "top_brands = dataset.groupby('BRAND')['PRICE_CURRENT'].sum().reset_index()\n",
    "\n",
    "# Sort the brands by total sales in descending order\n",
    "top_brands_sorted = top_brands.sort_values(by='PRICE_CURRENT', ascending=False)\n",
    "\n",
    "# Select the top 10 brands\n",
    "top_ten_brands = top_brands_sorted.head(10)\n",
    "\n",
    "# Display the result\n",
    "print(\"Top Ten Selling Brands with Sales Amount:\")\n",
    "print(top_ten_brands)\n"
   ]
  },
  {
   "cell_type": "code",
   "execution_count": 28,
   "id": "58f122b5",
   "metadata": {
    "ExecuteTime": {
     "end_time": "2024-10-06T12:39:59.162324Z",
     "start_time": "2024-10-06T12:39:58.472668Z"
    },
    "collapsed": true
   },
   "outputs": [
    {
     "data": {
      "image/png": "[encoded data removed]",
      "text/plain": [
       "<Figure size 1200x600 with 1 Axes>"
      ]
     },
     "metadata": {
      "needs_background": "dark"
     },
     "output_type": "display_data"
    }
   ],
   "source": [
    "import matplotlib.pyplot as plt\n",
    "\n",
    "# Define a list of colors for the bars\n",
    "colors = ['#FF5733', '#33FF57', '#3357FF', '#FF33A8', '#FFC300', \n",
    "          '#DAF7A6', '#581845', '#900C3F', '#C70039', '#FFC300']\n",
    "\n",
    "# Create a bar plot for the top selling brands\n",
    "plt.figure(figsize=(12, 6))\n",
    "plt.bar(top_ten_brands['BRAND'], top_ten_brands['PRICE_CURRENT'], color=colors)\n",
    "plt.title('Top Ten Selling Brands')\n",
    "plt.xlabel('Brand')\n",
    "plt.ylabel('Total Sales Amount')\n",
    "plt.xticks(rotation=45)\n",
    "plt.tight_layout()\n",
    "plt.savefig('D:\\\\Project_zalando\\\\Top Ten Selling Brands.png', dpi=300) \n",
    "plt.show()\n"
   ]
  },
  {
   "cell_type": "code",
   "execution_count": 29,
   "id": "b9cd69c5",
   "metadata": {
    "ExecuteTime": {
     "end_time": "2024-10-06T12:39:59.876549Z",
     "start_time": "2024-10-06T12:39:59.164374Z"
    },
    "collapsed": true
   },
   "outputs": [
    {
     "data": {
      "image/png": "[encoded data removed]",
      "text/plain": [
       "<Figure size 1200x600 with 1 Axes>"
      ]
     },
     "metadata": {
      "needs_background": "dark"
     },
     "output_type": "display_data"
    }
   ],
   "source": [
    "import matplotlib.pyplot as plt\n",
    "\n",
    "# how to compute it\n",
    "least_ten_brands = dataset_cleaned.groupby('BRAND')['PRICE_CURRENT'].sum().nsmallest(10).reset_index()\n",
    "\n",
    "# Define a list of colors for the bars\n",
    "colors = ['#FF5733', '#33FF57', '#3357FF', '#FF33A8', '#FFC300', \n",
    "          '#DAF7A6', '#581845', '#900C3F', '#C70039', '#FFC300']\n",
    "\n",
    "# Create a bar plot for the least selling brands\n",
    "plt.figure(figsize=(12, 6))\n",
    "plt.bar(least_ten_brands['BRAND'], least_ten_brands['PRICE_CURRENT'], color=colors)\n",
    "plt.title('Least Ten Selling Brands')\n",
    "plt.xlabel('Brand')\n",
    "plt.ylabel('Total Sales Amount')\n",
    "plt.xticks(rotation=45)\n",
    "plt.tight_layout()\n",
    "plt.savefig('D:\\\\Project_zalando\\\\Least Ten Selling Brands.png', dpi=300) \n",
    "plt.show()\n"
   ]
  },
  {
   "cell_type": "code",
   "execution_count": 34,
   "id": "378df29c",
   "metadata": {
    "ExecuteTime": {
     "end_time": "2024-10-06T12:50:05.208563Z",
     "start_time": "2024-10-06T12:50:02.906703Z"
    },
    "collapsed": true
   },
   "outputs": [
    {
     "name": "stdout",
     "output_type": "stream",
     "text": [
      "Index(['DEPARTMENT', 'CATEGORY', 'SUBCATEGORY', 'SUBSUBCATEGORY', 'GENDER',\n",
      "       'SKU', 'PRODUCT_NAME', 'PRICE_RETAIL', 'PRICE_CURRENT',\n",
      "       'PRICE_RETAIL_RAW', 'PRICE_LABEL', 'PRICE_CURRENT_RAW', 'BRAND', 'URL',\n",
      "       'SOURCE_URL', 'BREADCRUMBS', 'SORT_BY_RANKING', 'SCAN_DATE', 'TID',\n",
      "       'scan_year', 'scan_month'],\n",
      "      dtype='object')\n",
      "Average Price of Top Ten Brands:\n",
      "BRAND\n",
      "JOOP!                           79.950000\n",
      "Belstaff                        59.950000\n",
      "Polo Ralph Lauren               51.290000\n",
      "Calvin Klein Jeans Plus         49.950000\n",
      "Polo Ralph Lauren Big & Tall    49.950000\n",
      "Denim Project                   46.616667\n",
      "Lacoste                         46.083333\n",
      "ESTEEM                          44.900000\n",
      "Dickies                         44.323333\n",
      "HUGO                            43.750000\n",
      "Name: PRICE_CURRENT, dtype: float64\n",
      "\n",
      "Average Price by Price Category:\n",
      "PRICE_CATEGORY\n",
      "High      51.540152\n",
      "Low       15.203500\n",
      "Medium    29.175729\n",
      "Name: PRICE_CURRENT, dtype: float64\n",
      "\n",
      "Sales Volume by Price Range:\n",
      "Price Range\n",
      "0-10       68\n",
      "10-20     392\n",
      "20-30     320\n",
      "30-40     153\n",
      "40-50      44\n",
      "50-60      16\n",
      "60-70       2\n",
      "70-80       4\n",
      "80-90       0\n",
      "90-100      0\n",
      "Name: count, dtype: int64\n"
     ]
    },
    {
     "data": {
      "image/png": "[encoded data removed]",
      "text/plain": [
       "<Figure size 1000x600 with 1 Axes>"
      ]
     },
     "metadata": {
      "needs_background": "dark"
     },
     "output_type": "display_data"
    },
    {
     "data": {
      "image/png": "[encoded data removed]",
      "text/plain": [
       "<Figure size 1000x600 with 1 Axes>"
      ]
     },
     "metadata": {
      "needs_background": "dark"
     },
     "output_type": "display_data"
    },
    {
     "data": {
      "image/png": "[encoded data removed]",
      "text/plain": [
       "<Figure size 1000x600 with 1 Axes>"
      ]
     },
     "metadata": {
      "needs_background": "dark"
     },
     "output_type": "display_data"
    }
   ],
   "source": [
    "import pandas as pd\n",
    "import matplotlib.pyplot as plt\n",
    "import seaborn as sns\n",
    "\n",
    "# Load your dataset (ensure to replace 'path_to_your_file' with the actual file path)\n",
    "filtered_dataset = pd.read_csv('D:\\\\Project_zalando\\\\DE_Zalando_Product_Cleaned.csv')\n",
    "\n",
    "# Check the columns in the dataset\n",
    "print(filtered_dataset.columns)\n",
    "\n",
    "# Step 1: Create a Price Category based on PRICE_CURRENT\n",
    "def price_category(price):\n",
    "    if price < 20:\n",
    "        return 'Low'\n",
    "    elif 20 <= price < 40:\n",
    "        return 'Medium'\n",
    "    elif price >= 40:\n",
    "        return 'High'\n",
    "    else:\n",
    "        return 'Unknown'\n",
    "\n",
    "# Apply the price_category function to create a new column\n",
    "filtered_dataset['PRICE_CATEGORY'] = filtered_dataset['PRICE_CURRENT'].apply(price_category)\n",
    "\n",
    "# Step 2: Calculate Average Prices by Brand\n",
    "avg_price_by_brand = filtered_dataset.groupby('BRAND')['PRICE_CURRENT'].mean()\n",
    "\n",
    "# Get the top ten brands by average price\n",
    "top_ten_brands = avg_price_by_brand.nlargest(10)\n",
    "\n",
    "# Calculate Average Prices by Price Category\n",
    "avg_price_by_category = filtered_dataset.groupby('PRICE_CATEGORY')['PRICE_CURRENT'].mean()\n",
    "\n",
    "# Display results\n",
    "print(\"Average Price of Top Ten Brands:\")\n",
    "print(top_ten_brands)\n",
    "\n",
    "print(\"\\nAverage Price by Price Category:\")\n",
    "print(avg_price_by_category)\n",
    "\n",
    "# Step 3: Sales Volume by Price Range\n",
    "# Define price ranges\n",
    "bins = [0, 10, 20, 30, 40, 50, 60, 70, 80, 90, 100]\n",
    "labels = ['0-10', '10-20', '20-30', '30-40', '40-50', '50-60', '60-70', '70-80', '80-90', '90-100']\n",
    "filtered_dataset['Price Range'] = pd.cut(filtered_dataset['PRICE_CURRENT'], bins=bins, labels=labels, right=False)\n",
    "\n",
    "# Count sales by price range\n",
    "sales_volume_by_price_range = filtered_dataset['Price Range'].value_counts().sort_index()\n",
    "\n",
    "# Display results\n",
    "print(\"\\nSales Volume by Price Range:\")\n",
    "print(sales_volume_by_price_range)\n",
    "\n",
    "# Step 4: Visualizations\n",
    "\n",
    "# Average Price of Top Ten Brands\n",
    "plt.figure(figsize=(10, 6))\n",
    "sns.barplot(x=top_ten_brands.index, y=top_ten_brands.values, palette='viridis')\n",
    "plt.title('Average Price of Top Ten Brands')\n",
    "plt.xlabel('Brand')\n",
    "plt.ylabel('Average Price')\n",
    "plt.xticks(rotation=45)\n",
    "plt.tight_layout()\n",
    "plt.savefig('D:\\\\Project_zalando\\\\Average Price of Top Ten Brands.png', dpi=300)\n",
    "plt.show()\n",
    "\n",
    "# Average Price by Price Category\n",
    "plt.figure(figsize=(10, 6))\n",
    "sns.barplot(x=avg_price_by_category.index, y=avg_price_by_category.values, palette='plasma')\n",
    "plt.title('Average Price by Price Category')\n",
    "plt.xlabel('Price Category')\n",
    "plt.ylabel('Average Price')\n",
    "plt.xticks(rotation=45)\n",
    "plt.tight_layout()\n",
    "plt.savefig('D:\\\\Project_zalando\\\\Average Price by Price Category.png', dpi=300)\n",
    "\n",
    "plt.show()\n",
    "\n",
    "# Sales Volume by Price Range\n",
    "plt.figure(figsize=(10, 6))\n",
    "sns.barplot(x=sales_volume_by_price_range.index, y=sales_volume_by_price_range.values, palette='coolwarm')\n",
    "plt.title('Sales Volume by Price Range')\n",
    "plt.xlabel('Price Range')\n",
    "plt.ylabel('Number of Products Sold')\n",
    "plt.xticks(rotation=45)\n",
    "plt.tight_layout()\n",
    "plt.savefig('D:\\\\Project_zalando\\\\Sales Volume by Price Range.png', dpi=300)  \n",
    "plt.show()\n"
   ]
  },
  {
   "cell_type": "code",
   "execution_count": 35,
   "id": "e3f069e7",
   "metadata": {
    "ExecuteTime": {
     "end_time": "2024-10-06T12:50:38.056172Z",
     "start_time": "2024-10-06T12:50:37.447714Z"
    },
    "collapsed": true
   },
   "outputs": [
    {
     "name": "stdout",
     "output_type": "stream",
     "text": [
      "Average Price of Least Ten Brands:\n",
      "BRAND\n",
      "CLOCKHOUSE          5.000000\n",
      "Cross Jeans         7.490000\n",
      "Cotton On           9.130000\n",
      "BONOBO Jeans        9.990000\n",
      "C&A                 9.991000\n",
      "Bershka            10.143846\n",
      "Redefined Rebel    10.633333\n",
      "Tezenis            10.990000\n",
      "Hype               11.200000\n",
      "BONDELID           11.900000\n",
      "Name: PRICE_CURRENT, dtype: float64\n",
      "\n",
      "Average Price by Price Category:\n",
      "PRICE_CATEGORY\n",
      "High      51.540152\n",
      "Low       15.203500\n",
      "Medium    29.175729\n",
      "Name: PRICE_CURRENT, dtype: float64\n",
      "\n",
      "Sales Volume by Price Range:\n",
      "Price Range\n",
      "0-10       68\n",
      "10-20     392\n",
      "20-30     320\n",
      "30-40     153\n",
      "40-50      44\n",
      "50-60      16\n",
      "60-70       2\n",
      "70-80       4\n",
      "80-90       0\n",
      "90-100      0\n",
      "Name: count, dtype: int64\n"
     ]
    },
    {
     "data": {
      "image/png": "[encoded data removed]",
      "text/plain": [
       "<Figure size 1000x600 with 1 Axes>"
      ]
     },
     "metadata": {
      "needs_background": "dark"
     },
     "output_type": "display_data"
    }
   ],
   "source": [
    "import pandas as pd\n",
    "import matplotlib.pyplot as plt\n",
    "import seaborn as sns\n",
    "\n",
    "# Step 1: Create a Price Category based on PRICE_CURRENT\n",
    "def price_category(price):\n",
    "    if price < 20:\n",
    "        return 'Low'\n",
    "    elif 20 <= price < 40:\n",
    "        return 'Medium'\n",
    "    elif price >= 40:\n",
    "        return 'High'\n",
    "    else:\n",
    "        return 'Unknown'\n",
    "\n",
    "# Apply the price_category function to create a new column\n",
    "filtered_dataset['PRICE_CATEGORY'] = filtered_dataset['PRICE_CURRENT'].apply(price_category)\n",
    "\n",
    "# Step 2: Calculate Average Prices by Brand\n",
    "avg_price_by_brand = filtered_dataset.groupby('BRAND')['PRICE_CURRENT'].mean()\n",
    "\n",
    "# Get the least ten brands by average price\n",
    "least_ten_brands = avg_price_by_brand.nsmallest(10)\n",
    "\n",
    "# Calculate Average Prices by Price Category\n",
    "avg_price_by_category = filtered_dataset.groupby('PRICE_CATEGORY')['PRICE_CURRENT'].mean()\n",
    "\n",
    "# Display results\n",
    "print(\"Average Price of Least Ten Brands:\")\n",
    "print(least_ten_brands)\n",
    "\n",
    "print(\"\\nAverage Price by Price Category:\")\n",
    "print(avg_price_by_category)\n",
    "\n",
    "# Step 3: Sales Volume by Price Range\n",
    "# Define price ranges\n",
    "bins = [0, 10, 20, 30, 40, 50, 60, 70, 80, 90, 100]\n",
    "labels = ['0-10', '10-20', '20-30', '30-40', '40-50', '50-60', '60-70', '70-80', '80-90', '90-100']\n",
    "filtered_dataset['Price Range'] = pd.cut(filtered_dataset['PRICE_CURRENT'], bins=bins, labels=labels, right=False)\n",
    "\n",
    "# Count sales by price range\n",
    "sales_volume_by_price_range = filtered_dataset['Price Range'].value_counts().sort_index()\n",
    "\n",
    "# Display results\n",
    "print(\"\\nSales Volume by Price Range:\")\n",
    "print(sales_volume_by_price_range)\n",
    "\n",
    "# Step 4: Visualizations\n",
    "\n",
    "# Average Price of Least Ten Brands\n",
    "plt.figure(figsize=(10, 6))\n",
    "sns.barplot(x=least_ten_brands.index, y=least_ten_brands.values, palette='magma')\n",
    "plt.title('Average Price of Least Ten Brands')\n",
    "plt.xlabel('Brand')\n",
    "plt.ylabel('Average Price')\n",
    "plt.xticks(rotation=45)\n",
    "plt.tight_layout()\n",
    "plt.savefig('D:\\\\Project_zalando\\\\Average Price of Least Ten Brands.png', dpi=300)  \n",
    "plt.show()"
   ]
  },
  {
   "cell_type": "code",
   "execution_count": null,
   "id": "f9d11dd1",
   "metadata": {},
   "outputs": [],
   "source": []
  }
 ],
 "metadata": {
  "kernelspec": {
   "display_name": "Python 3 (ipykernel)",
   "language": "python",
   "name": "python3"
  },
  "language_info": {
   "codemirror_mode": {
    "name": "ipython",
    "version": 3
   },
   "file_extension": ".py",
   "mimetype": "text/x-python",
   "name": "python",
   "nbconvert_exporter": "python",
   "pygments_lexer": "ipython3",
   "version": "3.11.5"
  }
 },
 "nbformat": 4,
 "nbformat_minor": 5
}
